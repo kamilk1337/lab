{
 "cells": [
  {
   "cell_type": "markdown",
   "id": "0ff33d3b",
   "metadata": {},
   "source": [
    "41. Write a Pandas program to remove the html tags within the specified column of a given DataFrame."
   ]
  },
  {
   "cell_type": "code",
   "execution_count": null,
   "id": "fd5eddfb",
   "metadata": {},
   "outputs": [],
   "source": [
    "import pandas as pd\n",
    "import re as re\n",
    "df = pd.DataFrame({\n",
    "    'company_code': ['Abcd','EFGF', 'zefsalf', 'sdfslew', 'zekfsdf'],\n",
    "    'date_of_sale': ['12/05/2002','16/02/1999','05/09/1998','12/02/2022','15/09/1997'],\n",
    "    'address': ['9910 Surrey <b>Avenue</b>','92 N. Bishop Avenue','9910 <br>Golden Star Avenue', '102 Dunbar <i></i>St.', '17 West Livingston Court']\n",
    "})\n",
    "print(\"Original DataFrame:\")\n",
    "print(df)\n",
    "def remove_tags(string):\n",
    "    result = re.sub('<.*?>','',string)\n",
    "    return result\n",
    "df['with_out_tags']=df['address'].apply(lambda cw : remove_tags(cw))\n",
    "print(\"\\nSentences without tags':\")\n",
    "print(df)\n"
   ]
  },
  {
   "cell_type": "markdown",
   "id": "1b93c7d9",
   "metadata": {},
   "source": [
    "40. Write a Pandas program to extract words starting with capital words from a given column of a given DataFrame"
   ]
  },
  {
   "cell_type": "code",
   "execution_count": null,
   "id": "5d36507e",
   "metadata": {},
   "outputs": [],
   "source": [
    "import pandas as pd\n",
    "import re as re\n",
    "df = pd.DataFrame({\n",
    "    'company_code': ['Abcd','EFGF', 'zefsalf', 'sdfslew', 'zekfsdf'],\n",
    "    'date_of_sale': ['12/05/2002','16/02/1999','05/09/1998','12/02/2022','15/09/1997'],\n",
    "    'address': ['9910 Surrey Avenue\\n9910 Surrey Avenue','92 N. Bishop Avenue','9910 Golden Star Avenue', '102 Dunbar St.\\n102 Dunbar St.', '17 West Livingston Court']\n",
    "})\n",
    "\n",
    "print(\"Original DataFrame:\")\n",
    "print(df)\n",
    "\n",
    "def find_unique_sentence(str1):\n",
    "    result = re.findall(r'(?sm)(^[^\\r\\n]+$)(?!.*^\\1$)', str1)\n",
    "    return result\n",
    "\n",
    "df['unique_sentence']=df['address'].apply(lambda st : find_unique_sentence(st))\n",
    "print(\"\\nExtract unique sentences :\")\n",
    "print(df)"
   ]
  },
  {
   "cell_type": "markdown",
   "id": "ea0a0bee",
   "metadata": {},
   "source": [
    "39. Write a Pandas program to extract the unique sentences from a given column of a given DataFrame."
   ]
  },
  {
   "cell_type": "code",
   "execution_count": null,
   "id": "b5943514",
   "metadata": {},
   "outputs": [],
   "source": [
    "import pandas as pd\n",
    "import re as re\n",
    "df = pd.DataFrame({\n",
    "    'company_code': ['Abcd','EFGF', 'zefsalf', 'sdfslew', 'zekfsdf'],\n",
    "    'date_of_sale': ['12/05/2002','16/02/1999','05/09/1998','12/02/2022','15/09/1997'],\n",
    "    'address': ['9910 Surrey Avenue','92 N. Bishop Avenue','9910 Golden Star Avenue', '102 Dunbar St.', '17 West Livingston Court']\n",
    "})\n",
    "\n",
    "print(\"Original DataFrame:\")\n",
    "print(df)\n",
    "\n",
    "def find_capital_word(str1):\n",
    "    result = re.findall(r'\\b[A-Z]\\w+', str1)\n",
    "    return result\n",
    "\n",
    "df['caps_word_in']=df['address'].apply(lambda cw : find_capital_word(cw))\n",
    "print(\"\\nExtract words starting with capital words from the sentences':\")\n",
    "print(df)"
   ]
  },
  {
   "cell_type": "markdown",
   "id": "0fa5da2b",
   "metadata": {},
   "source": [
    "38. Write a Pandas program to extract the sentences where a specific word is present in a given column of a given DataFrame."
   ]
  },
  {
   "cell_type": "code",
   "execution_count": null,
   "id": "7a181ae5",
   "metadata": {},
   "outputs": [],
   "source": [
    "import pandas as pd\n",
    "import re as re\n",
    "df = pd.DataFrame({\n",
    "    'company_code': ['Abcd','EFGF', 'zefsalf', 'sdfslew', 'zekfsdf'],\n",
    "    'date_of_sale': ['12/05/2002','16/02/1999','05/09/1998','12/02/2022','15/09/1997'],\n",
    "    'address': ['9910 Surrey Avenue','92 N. Bishop Avenue','9910 Golden Star Avenue', '102 Dunbar St.', '17 West Livingston Court']\n",
    "})\n",
    "print(\"Original DataFrame:\")\n",
    "print(df)\n",
    "def pick_only_key_sentence(str1, word):\n",
    "    result = re.findall(r'([^.]*'+word+'[^.]*)', str1)\n",
    "    return result\n",
    "df['filter_sentence']=df['address'].apply(lambda x : pick_only_key_sentence(x,'Avenue'))\n",
    "print(\"\\nText with the word 'Avenue':\")\n",
    "print(df)"
   ]
  },
  {
   "cell_type": "markdown",
   "id": "8e603989",
   "metadata": {},
   "source": [
    "37. Write a Pandas program to extract only words from a given column of a given DataFrame."
   ]
  },
  {
   "cell_type": "code",
   "execution_count": null,
   "id": "ba7ff640",
   "metadata": {},
   "outputs": [],
   "source": [
    "import pandas as pd\n",
    "import re as re\n",
    "df = pd.DataFrame({\n",
    "    'company_code': ['Abcd','EFGF', 'zefsalf', 'sdfslew', 'zekfsdf'],\n",
    "    'date_of_sale': ['12/05/2002','16/02/1999','05/09/1998','12/02/2022','15/09/1997'],\n",
    "    'address': ['9910 Surrey Ave.','92 N. Bishop Ave.','9910 Golden Star Ave.', '102 Dunbar St.', '17 West Livingston Court']\n",
    "})\n",
    "print(\"Original DataFrame:\")\n",
    "print(df)\n",
    "\n",
    "def search_words(text):\n",
    "    result = re.findall(r'\\b[^\\d\\W]+\\b', text)\n",
    "    return \" \".join(result)\n",
    "\n",
    "df['only_words']=df['address'].apply(lambda x : search_words(x))\n",
    "print(\"\\nOnly words:\")\n",
    "print(df)"
   ]
  },
  {
   "cell_type": "markdown",
   "id": "83be664a",
   "metadata": {},
   "source": [
    "36. Write a Pandas program to extract date (format: mm-dd-yyyy) from a given column of a given DataFrame."
   ]
  },
  {
   "cell_type": "code",
   "execution_count": null,
   "id": "d8db2d42",
   "metadata": {},
   "outputs": [],
   "source": [
    "import pandas as pd\n",
    "import re as re\n",
    "df = pd.DataFrame({\n",
    "    'company_code': ['Abcd','EFGF', 'zefsalf', 'sdfslew', 'zekfsdf'],\n",
    "    'date_of_sale': ['12/05/2002','16/02/1999','05/09/1998','12/02/2022','15/09/1997'],\n",
    "    'sale_amount': [12348.5, 233331.2, 22.5, 2566552.0, 23.0]\n",
    "})\n",
    "print(\"Original DataFrame:\")\n",
    "print(df)\n",
    "def find_valid_dates(dt):\n",
    "    #format: mm-dd-yyyy\n",
    "    result = re.findall(r'\\b(1[0-2]|0[1-9])/(3[01]|[12][0-9]|0[1-9])/([0-9]{4})\\b',dt)\n",
    "    return result\n",
    "df['valid_dates']=df['date_of_sale'].apply(lambda dt : find_valid_dates(dt))\n",
    "print(\"\\nValid dates (format: mm-dd-yyyy):\")\n",
    "print(df)"
   ]
  },
  {
   "cell_type": "markdown",
   "id": "aaf7e41b",
   "metadata": {},
   "source": [
    "35. Write a Pandas program to check whether two given words present in a specified column of a given DataFrame."
   ]
  },
  {
   "cell_type": "code",
   "execution_count": null,
   "id": "fdfe9218",
   "metadata": {},
   "outputs": [],
   "source": [
    "import pandas as pd\n",
    "import re as re\n",
    "pd.set_option('display.max_columns', 10)\n",
    "df = pd.DataFrame({\n",
    "    'company_code': ['c0001','c0002','c0003', 'c0003', 'c0004'],\n",
    "    'address': ['9910 Surrey Ave.','92 N. Bishop Ave.','9910 Golden Star Ave.', '102 Dunbar St.', '17 West Livingston Court']\n",
    "    })\n",
    "print(\"Original DataFrame:\")\n",
    "print(df)\n",
    "def test_and_cond(text):\n",
    "    result = re.findall(r'(?=.*Ave.)(?=.*9910).*', text) \n",
    "    return \" \".join(result)\n",
    "df['check_two_words']=df['address'].apply(lambda x : test_and_cond(x))\n",
    "print(\"\\nPresent two words!\")\n",
    "print(df)\n"
   ]
  },
  {
   "cell_type": "markdown",
   "id": "6f836c1d",
   "metadata": {},
   "source": [
    "34. Write a Pandas program to extract numbers less than 100 from the specified column of a given DataFrame."
   ]
  },
  {
   "cell_type": "code",
   "execution_count": null,
   "id": "51475718",
   "metadata": {},
   "outputs": [],
   "source": [
    "import pandas as pd\n",
    "import re as re\n",
    "pd.set_option('display.max_columns', 10)\n",
    "df = pd.DataFrame({\n",
    "    'company_code': ['c0001','c0002','c0003', 'c0003', 'c0004'],\n",
    "    'address': ['72 Surrey Ave.11','92 N. Bishop Ave.','9910 Golden Star St.', '102 Dunbar St.', '17 West Livingston Court']\n",
    "    })\n",
    "print(\"Original DataFrame:\")\n",
    "print(df)\n",
    "\n",
    "def test_num_less(n):\n",
    "    nums = []\n",
    "    for i in n.split():\n",
    "        result = re.findall(r'\\b(0*(?:[1-9][0-9]?|100))\\b',i)\n",
    "        nums.append(result)\n",
    "        all_num=[\",\".join(x) for x in nums if x != []]\n",
    "    return \" \".join(all_num)\n",
    "\n",
    "df['num_less'] = df['address'].apply(lambda x : test_num_less(x))\n",
    "print(\"\\nNumber less than 100:\")\n",
    "print(df)"
   ]
  },
  {
   "cell_type": "markdown",
   "id": "00c2774f",
   "metadata": {},
   "source": [
    "33. Write a Pandas program to extract numbers greater than 940 from the specified column of a given DataFrame."
   ]
  },
  {
   "cell_type": "code",
   "execution_count": null,
   "id": "d93b0f27",
   "metadata": {},
   "outputs": [],
   "source": [
    "import pandas as pd\n",
    "import re as re\n",
    "pd.set_option('display.max_columns', 10)\n",
    "df = pd.DataFrame({\n",
    "    'company_code': ['c0001','c0002','c0003', 'c0003', 'c0004'],\n",
    "    'address': ['7277 Surrey Ave.1111','920 N. Bishop Ave.','9910 Golden Star St.', '1025 Dunbar St.', '1700 West Livingston Court']\n",
    "    })\n",
    "print(\"Original DataFrame:\")\n",
    "print(df)\n",
    "def test_num_great(text): \n",
    "    result = re.findall(r'95[5-9]|9[6-9]\\d|[1-9]\\d{3,}',text)\n",
    "    return \" \".join(result)\n",
    "df['num_great']=df['address'].apply(lambda x : test_num_great(x))\n",
    "print(\"\\nNumber greater than 940:\")\n",
    "print(df)"
   ]
  },
  {
   "cell_type": "markdown",
   "id": "4f05cac8",
   "metadata": {},
   "source": [
    "32. Write a Pandas program to remove repetitive characters from the specified column of a given DataFrame."
   ]
  },
  {
   "cell_type": "code",
   "execution_count": null,
   "id": "3e91e18b",
   "metadata": {},
   "outputs": [],
   "source": [
    "import pandas as pd\n",
    "import re as re\n",
    "pd.set_option('display.max_columns', 10)\n",
    "df = pd.DataFrame({\n",
    "    'text_code': ['t0001.','t0002','t0003', 't0004'],\n",
    "    'text_lang': ['She livedd a long life.', 'How oold is your father?', 'What is tthe problem?','TThhis desk is used by Tom.']\n",
    "    })\n",
    "print(\"Original DataFrame:\")\n",
    "print(df)\n",
    "def rep_char(str1):\n",
    "    tchr = str1.group(0)\n",
    "    if len(tchr) > 1:\n",
    "        return tchr[0:1] # can change the value here on repetition\n",
    "def unique_char(rep, sent_text):\n",
    "    convert = re.sub(r'(\\w)\\1+', rep, sent_text) \n",
    "    return convert\n",
    "df['normal_text']=df['text_lang'].apply(lambda x : unique_char(rep_char,x))\n",
    "print(\"\\nRemove repetitive characters:\")\n",
    "print(df)\n"
   ]
  },
  {
   "cell_type": "markdown",
   "id": "b5b94161",
   "metadata": {},
   "source": [
    "32. Write a Pandas program to remove repetitive characters from the specified column of a given DataFrame."
   ]
  },
  {
   "cell_type": "code",
   "execution_count": null,
   "id": "dc6ec87c",
   "metadata": {},
   "outputs": [],
   "source": [
    "import pandas as pd\n",
    "import re as re\n",
    "pd.set_option('display.max_columns', 10)\n",
    "df = pd.DataFrame({\n",
    "    'text_code': ['t0001.','t0002','t0003', 't0004'],\n",
    "    'text_lang': ['She livedd a long life.', 'How oold is your father?', 'What is tthe problem?','TThhis desk is used by Tom.']\n",
    "    })\n",
    "print(\"Original DataFrame:\")\n",
    "print(df)\n",
    "def rep_char(str1):\n",
    "    tchr = str1.group(0)\n",
    "    if len(tchr) > 1:\n",
    "        return tchr[0:1] # can change the value here on repetition\n",
    "def unique_char(rep, sent_text):\n",
    "    convert = re.sub(r'(\\w)\\1+', rep, sent_text) \n",
    "    return convert\n",
    "df['normal_text']=df['text_lang'].apply(lambda x : unique_char(rep_char,x))\n",
    "print(\"\\nRemove repetitive characters:\")\n",
    "print(df)"
   ]
  },
  {
   "cell_type": "markdown",
   "id": "b439997c",
   "metadata": {},
   "source": [
    "31. Write a Pandas program to extract only punctuations from the specified column of a given DataFrame."
   ]
  },
  {
   "cell_type": "code",
   "execution_count": null,
   "id": "bd17f97b",
   "metadata": {},
   "outputs": [],
   "source": [
    "import pandas as pd\n",
    "import re as re\n",
    "pd.set_option('display.max_columns', 10)\n",
    "df = pd.DataFrame({\n",
    "    'company_code': ['c0001.','c000,2','c0003', 'c0003#', 'c0004,'],\n",
    "    'year': ['year 1800','year 1700','year 2300', 'year 1900', 'year 2200']\n",
    "    })\n",
    "print(\"Original DataFrame:\")\n",
    "print(df)\n",
    "def find_punctuations(text):\n",
    "    result = re.findall(r'[!\"\\$%&\\'()*+,\\-.\\/:;=#@?\\[\\\\\\]^_`{|}~]*', text)\n",
    "    string=\"\".join(result)\n",
    "    return list(string)\n",
    "df['nonalpha']=df['company_code'].apply(lambda x: find_punctuations(x))\n",
    "print(\"\\nExtracting punctuation:\")\n",
    "print(df)\n"
   ]
  },
  {
   "cell_type": "markdown",
   "id": "1301a3b2",
   "metadata": {},
   "source": [
    "30. Write a Pandas program to extract only non alphanumeric characters from the specified column of a given DataFrame."
   ]
  },
  {
   "cell_type": "code",
   "execution_count": null,
   "id": "fda71ba7",
   "metadata": {},
   "outputs": [],
   "source": [
    "import pandas as pd\n",
    "import re as re\n",
    "pd.set_option('display.max_columns', 10)\n",
    "df = pd.DataFrame({\n",
    "    'company_code': ['c0001#','c00@0^2','$c0003', 'c0003', '&c0004'],\n",
    "    'year': ['year 1800','year 1700','year 2300', 'year 1900', 'year 2200']\n",
    "    })\n",
    "print(\"Original DataFrame:\")\n",
    "print(df)\n",
    "def find_nonalpha(text):\n",
    "    result = re.findall(\"[^A-Za-z0-9 ]\",text)\n",
    "    return result\n",
    "df['nonalpha']=df['company_code'].apply(lambda x: find_nonalpha(x))\n",
    "print(\"\\Extracting only non alphanumeric characters from company_code:\")\n",
    "print(df)\n"
   ]
  },
  {
   "cell_type": "markdown",
   "id": "f6115af2",
   "metadata": {},
   "source": [
    "29. Write a Pandas program to extract year between 1800 to 2200 from the specified column of a given DataFrame."
   ]
  },
  {
   "cell_type": "code",
   "execution_count": null,
   "id": "24c00cb2",
   "metadata": {},
   "outputs": [],
   "source": [
    "import pandas as pd\n",
    "import re as re\n",
    "pd.set_option('display.max_columns', 10)\n",
    "df = pd.DataFrame({\n",
    "    'company_code': ['c0001','c0002','c0003', 'c0003', 'c0004'],\n",
    "    'year': ['year 1800','year 1700','year 2300', 'year 1900', 'year 2200']\n",
    "    })\n",
    "print(\"Original DataFrame:\")\n",
    "print(df)\n",
    "def find_year(text):\n",
    "    #line=re.findall(r\"\\b(18[0][0]|2[0-2][00])\\b\",text)\n",
    "    result = re.findall(r\"\\b(18[0-9]{2}|19[0-8][0-9]|199[0-9]|2[01][0-9]{2}|2200)\\b\",text)\n",
    "    return result\n",
    "df['year_range']=df['year'].apply(lambda x: find_year(x))\n",
    "print(\"\\Extracting year between 1800 to 2200:\")\n",
    "print(df)\n"
   ]
  },
  {
   "cell_type": "markdown",
   "id": "34c2a689",
   "metadata": {},
   "source": [
    "28. Write a Pandas program to extract only phone number from the specified column of a given DataFrame."
   ]
  },
  {
   "cell_type": "code",
   "execution_count": null,
   "id": "622c3dbe",
   "metadata": {},
   "outputs": [],
   "source": [
    "import pandas as pd\n",
    "import re as re\n",
    "pd.set_option('display.max_columns', 10)\n",
    "df = pd.DataFrame({\n",
    "    'company_code': ['c0001','c0002','c0003', 'c0003', 'c0004'],\n",
    "    'company_phone_no': ['Company1-Phone no. 4695168357','Company2-Phone no. 8088729013','Company3-Phone no. 6204658086', 'Company4-Phone no. 5159530096', 'Company5-Phone no. 9037952371']\n",
    "    })\n",
    "print(\"Original DataFrame:\")\n",
    "print(df)\n",
    "def find_phone_number(text):\n",
    "    ph_no = re.findall(r\"\\b\\d{10}\\b\",text)\n",
    "    return \"\".join(ph_no)\n",
    "df['number']=df['company_phone_no'].apply(lambda x: find_phone_number(x))\n",
    "print(\"\\Extracting numbers from dataframe columns:\")\n",
    "print(df)\n"
   ]
  },
  {
   "cell_type": "markdown",
   "id": "a95d23c2",
   "metadata": {},
   "source": [
    "27. Write a Pandas program to extract only number from the specified column of a given DataFrame. "
   ]
  },
  {
   "cell_type": "code",
   "execution_count": null,
   "id": "3e2020cc",
   "metadata": {},
   "outputs": [],
   "source": [
    "import pandas as pd\n",
    "import re as re\n",
    "pd.set_option('display.max_columns', 10)\n",
    "df = pd.DataFrame({\n",
    "    'company_code': ['c0001','c0002','c0003', 'c0003', 'c0004'],\n",
    "    'address': ['7277 Surrey Ave.','920 N. Bishop Ave.','9910 Golden Star St.', '25 Dunbar St.', '17 West Livingston Court']\n",
    "    })\n",
    "print(\"Original DataFrame:\")\n",
    "print(df)\n",
    "def find_number(text):\n",
    "    num = re.findall(r'[0-9]+',text)\n",
    "    return \" \".join(num)\n",
    "df['number']=df['address'].apply(lambda x: find_number(x))\n",
    "print(\"\\Extracting numbers from dataframe columns:\")\n",
    "print(df)\n"
   ]
  },
  {
   "cell_type": "markdown",
   "id": "56e517c8",
   "metadata": {},
   "source": [
    "26. Write a Pandas program to extract word mention someone in tweets using @ from the specified column of a given DataFrame."
   ]
  },
  {
   "cell_type": "code",
   "execution_count": null,
   "id": "fe8a67f8",
   "metadata": {},
   "outputs": [],
   "source": [
    "import pandas as pd\n",
    "import re as re\n",
    "pd.set_option('display.max_columns', 10)\n",
    "df = pd.DataFrame({\n",
    "    'tweets': ['@Obama says goodbye','Retweets for @cash','A political endorsement in @Indonesia', '1 dog = many #retweets', 'Just a simple #egg']\n",
    "    })\n",
    "print(\"Original DataFrame:\")\n",
    "print(df)\n",
    "def find_at_word(text):\n",
    "    word=re.findall(r'(?<=@)\\w+',text)\n",
    "    return \" \".join(word)\n",
    "\n",
    "df['at_word']=df['tweets'].apply(lambda x: find_at_word(x))\n",
    "print(\"\\Extracting @word from dataframe columns:\")\n",
    "print(df)\n"
   ]
  },
  {
   "cell_type": "markdown",
   "id": "59b9c274",
   "metadata": {},
   "source": [
    "25. Write a Pandas program to extract hash attached word from twitter text from the specified column of a given DataFrame."
   ]
  },
  {
   "cell_type": "code",
   "execution_count": null,
   "id": "f53e6788",
   "metadata": {},
   "outputs": [],
   "source": [
    "import pandas as pd\n",
    "import re as re\n",
    "pd.set_option('display.max_columns', 10)\n",
    "df = pd.DataFrame({\n",
    "    'tweets': ['#Obama says goodbye','Retweets for #cash','A political endorsement in #Indonesia', '1 dog = many #retweets', 'Just a simple #egg']\n",
    "    })\n",
    "print(\"Original DataFrame:\")\n",
    "print(df)\n",
    "def find_hash(text):\n",
    "    hword=re.findall(r'(?<=#)\\w+',text)\n",
    "    return \" \".join(hword)\n",
    "df['hash_word']=df['tweets'].apply(lambda x: find_hash(x))\n",
    "print(\"\\Extracting#@word from dataframe columns:\")\n",
    "print(df)\n"
   ]
  },
  {
   "cell_type": "markdown",
   "id": "19bfd128",
   "metadata": {},
   "source": [
    "24. Write a Pandas program to extract email from a specified column of string type of a given DataFrame."
   ]
  },
  {
   "cell_type": "code",
   "execution_count": null,
   "id": "e741793c",
   "metadata": {},
   "outputs": [],
   "source": [
    "import pandas as pd\n",
    "import re as re\n",
    "pd.set_option('display.max_columns', 10)\n",
    "df = pd.DataFrame({\n",
    "    'name_email': ['Alberto Franco af@gmail.com','Gino Mcneill gm@yahoo.com','Ryan Parkes rp@abc.io', 'Eesha Hinton', 'Gino Mcneill gm@github.com']\n",
    "    })\n",
    "print(\"Original DataFrame:\")\n",
    "print(df)\n",
    "def find_email(text):\n",
    "    email = re.findall(r'[\\w\\.-]+@[\\w\\.-]+',str(text))\n",
    "    return \",\".join(email)\n",
    "df['email']=df['name_email'].apply(lambda x: find_email(x))\n",
    "print(\"\\Extracting email from dataframe columns:\")\n",
    "print(df)\n"
   ]
  },
  {
   "cell_type": "markdown",
   "id": "390fc97b",
   "metadata": {},
   "source": [
    "23. Write a Pandas program to split a string of a column of a given DataFrame into multiple columns."
   ]
  },
  {
   "cell_type": "code",
   "execution_count": null,
   "id": "2d950add",
   "metadata": {},
   "outputs": [],
   "source": [
    "import pandas as pd\n",
    "df = pd.DataFrame({\n",
    "    'name': ['Alberto  Franco','Gino Ann Mcneill','Ryan  Parkes', 'Eesha Artur Hinton', 'Syed  Wharton'],\n",
    "    'date_of_birth ': ['17/05/2002','16/02/1999','25/09/1998','11/05/2002','15/09/1997'],\n",
    "    'age': [18.5, 21.2, 22.5, 22, 23]\n",
    "})\n",
    "print(\"Original DataFrame:\")\n",
    "print(df)\n",
    "df[[\"first\", \"middle\", \"last\"]] = df[\"name\"].str.split(\" \", expand = True)\n",
    "print(\"\\nNew DataFrame:\")\n",
    "print(df)"
   ]
  },
  {
   "cell_type": "markdown",
   "id": "e89c65b6",
   "metadata": {},
   "source": [
    "22. Write a Pandas program to replace more than one value with other values in a given DataFrame"
   ]
  },
  {
   "cell_type": "code",
   "execution_count": null,
   "id": "36cb4055",
   "metadata": {},
   "outputs": [],
   "source": [
    "import pandas as pd\n",
    "df = pd.DataFrame({\n",
    "    'company_code': ['A','B', 'C', 'D', 'A'],\n",
    "    'date_of_sale': ['12/05/2002','16/02/1999','25/09/1998','12/02/2022','15/09/1997'],\n",
    "    'sale_amount': [12348.5, 233331.2, 22.5, 2566552.0, 23.0]\n",
    "})\n",
    "\n",
    "print(\"Original DataFrame:\")\n",
    "print(df)\n",
    "\n",
    "print(\"\\nReplace A with c:\")\n",
    "df = df.replace([\"A\", \"D\"], [\"X\", \"Y\"])\n",
    "print(df)"
   ]
  },
  {
   "cell_type": "markdown",
   "id": "e24c817d",
   "metadata": {},
   "source": [
    "21. Write a Pandas program to replace arbitrary values with other values in a given DataFrame."
   ]
  },
  {
   "cell_type": "code",
   "execution_count": null,
   "id": "3a62623f",
   "metadata": {},
   "outputs": [],
   "source": [
    "import pandas as pd\n",
    "df = pd.DataFrame({\n",
    "    'company_code': ['A','B', 'C', 'D', 'A'],\n",
    "    'date_of_sale': ['12/05/2002','16/02/1999','25/09/1998','12/02/2022','15/09/1997'],\n",
    "    'sale_amount': [12348.5, 233331.2, 22.5, 2566552.0, 23.0]\n",
    "})\n",
    "\n",
    "print(\"Original DataFrame:\")\n",
    "print(df)\n",
    "\n",
    "print(\"\\nReplace A with c:\")\n",
    "df = df.replace(\"A\", \"C\")\n",
    "print(df)"
   ]
  },
  {
   "cell_type": "markdown",
   "id": "ac3086cb",
   "metadata": {},
   "source": [
    "20. Write a Pandas program to convert a specified character column in title case in a given DataFrame."
   ]
  },
  {
   "cell_type": "code",
   "execution_count": null,
   "id": "36c7b5b3",
   "metadata": {},
   "outputs": [],
   "source": [
    "import pandas as pd\n",
    "df = pd.DataFrame({\n",
    "    'company_code': ['Abcd','EFGF', 'zefsalf', 'sdfslew', 'zekfsdf'],\n",
    "    'date_of_sale': ['12/05/2002','16/02/1999','25/09/1998','12/02/2022','15/09/1997'],\n",
    "    'sale_amount': [12348.5, 233331.2, 22.5, 2566552.0, 23.0]\n",
    "})\n",
    "\n",
    "print(\"Original DataFrame:\")\n",
    "print(df)\n",
    "\n",
    "print(\"\\nTitle cases:\")\n",
    "df['company_code_title_cases'] = list(map(lambda x: x.title(), df['company_code']))\n",
    "print(df)\n"
   ]
  },
  {
   "cell_type": "markdown",
   "id": "d8fabc26",
   "metadata": {},
   "source": [
    "19. Write a Pandas program to convert a specified character column in upper/lower cases in a given DataFrame."
   ]
  },
  {
   "cell_type": "code",
   "execution_count": null,
   "id": "bcf461e3",
   "metadata": {},
   "outputs": [],
   "source": [
    "import pandas as pd\n",
    "df = pd.DataFrame({\n",
    "    'company_code': ['Abcd','EFGF', 'zefsalf', 'sdfslew', 'zekfsdf'],\n",
    "    'date_of_sale': ['12/05/2002','16/02/1999','25/09/1998','12/02/2022','15/09/1997'],\n",
    "    'sale_amount': [12348.5, 233331.2, 22.5, 2566552.0, 23.0]\n",
    "})\n",
    "\n",
    "df1 = pd.DataFrame({\n",
    "    'company_code': ['Abcd','EFGF', 'zefsalf', 'sdfslew', 'zekfsdf'],\n",
    "    'date_of_sale': ['12/05/2002','16/02/1999','25/09/1998','12/02/2022','15/09/1997'],\n",
    "    'sale_amount': [12348.5, 233331.2, 22.5, 2566552.0, 23.0]\n",
    "})\n",
    "print(\"Original DataFrame:\")\n",
    "print(df)\n",
    "print(\"\\nUpper cases in comapny_code:\")\n",
    "df['upper_company_code'] = list(map(lambda x: x.upper(), df['company_code']))\n",
    "print(df)\n",
    "print(\"\\nLower cases in comapny_code:\")\n",
    "df1['lower_company_code'] = list(map(lambda x: x.lower(), df1['company_code']))\n",
    "print(df1)\n"
   ]
  },
  {
   "cell_type": "markdown",
   "id": "fa2851ac",
   "metadata": {},
   "source": [
    "18. Write a Pandas program to swap the cases of a specified character column in a given DataFrame."
   ]
  },
  {
   "cell_type": "code",
   "execution_count": null,
   "id": "d2c214cc",
   "metadata": {},
   "outputs": [],
   "source": [
    "import pandas as pd\n",
    "df = pd.DataFrame({\n",
    "    'company_code': ['Abcd','EFGF', 'zefsalf', 'sdfslew', 'zekfsdf'],\n",
    "    'date_of_sale': ['12/05/2002','16/02/1999','25/09/1998','12/02/2022','15/09/1997'],\n",
    "    'sale_amount': [12348.5, 233331.2, 22.5, 2566552.0, 23.0]\n",
    "})\n",
    "print(\"Original DataFrame:\")\n",
    "print(df)\n",
    "print(\"\\nSwapp cases in comapny_code:\")\n",
    "df['swapped_company_code'] = list(map(lambda x: x.swapcase(), df['company_code']))\n",
    "print(df)\n"
   ]
  },
  {
   "cell_type": "markdown",
   "id": "b033d326",
   "metadata": {},
   "source": [
    "17. Write a Pandas program to check if a specified column starts with a specified string in a DataFrame."
   ]
  },
  {
   "cell_type": "code",
   "execution_count": null,
   "id": "a83a9b69",
   "metadata": {},
   "outputs": [],
   "source": [
    "import pandas as pd\n",
    "df = pd.DataFrame({\n",
    "    'company_code': ['Abcd','EFGF', 'zefsalf', 'sdfslew', 'zekfsdf'],\n",
    "    'date_of_sale': ['12/05/2002','16/02/1999','25/09/1998','12/02/2022','15/09/1997'],\n",
    "    'sale_amount': [12348.5, 233331.2, 22.5, 2566552.0, 23.0]\n",
    "})\n",
    "print(\"Original DataFrame:\")\n",
    "print(df)\n",
    "print(\"\\nIf a specified column starts with a specified string?\")\n",
    "df['company_code_starts_with'] = list(\n",
    "    map(lambda x: x.startswith('ze'), df['company_code']))\n",
    "print(df)\n"
   ]
  },
  {
   "cell_type": "markdown",
   "id": "86c4e73e",
   "metadata": {},
   "source": [
    "16. Write a Pandas program to get the length of the integer of a given column in a DataFrame."
   ]
  },
  {
   "cell_type": "code",
   "execution_count": null,
   "id": "a344b77f",
   "metadata": {},
   "outputs": [],
   "source": [
    "import pandas as pd\n",
    "df = pd.DataFrame({\n",
    "    'company_code': ['Abcd','EFGF', 'skfsalf', 'sdfslew', 'safsdf'],\n",
    "    'date_of_sale': ['12/05/2002','16/02/1999','25/09/1998','12/02/2022','15/09/1997'],\n",
    "    'sale_amount': [12348.5, 233331.2, 22.5, 2566552.0, 23.0]\n",
    "})\n",
    "print(\"Original DataFrame:\")\n",
    "print(df)\n",
    "print(\"\\nLength of sale_amount:\")\n",
    "df['sale_amount_length'] = df['sale_amount'].map(str).apply(len)\n",
    "print(df)\n"
   ]
  },
  {
   "cell_type": "markdown",
   "id": "4cdb1e52",
   "metadata": {},
   "source": [
    "15. Write a Pandas program to get the length of the string present of a given column in a DataFrame."
   ]
  },
  {
   "cell_type": "code",
   "execution_count": null,
   "id": "2653544c",
   "metadata": {},
   "outputs": [],
   "source": [
    "import pandas as pd\n",
    "df = pd.DataFrame({\n",
    "    'company_code': ['Abcd','EFGF', 'skfsalf', 'sdfslew', 'safsdf'],\n",
    "    'date_of_sale ': ['12/05/2002','16/02/1999','25/09/1998','12/02/2022','15/09/1997'],\n",
    "    'sale_amount': [12348.5, 233331.2, 22.5, 2566552.0, 23.0]})\n",
    "print(\"Original DataFrame:\")\n",
    "print(df)\n",
    "print(\"\\nLength of the string in a column:\")\n",
    "df['company_code_length'] = df['company_code'].apply(len)\n",
    "print(df)"
   ]
  },
  {
   "cell_type": "markdown",
   "id": "fd3b66e8",
   "metadata": {},
   "source": [
    "15. Write a Pandas program to get the length of the string present of a given column in a DataFrame."
   ]
  },
  {
   "cell_type": "code",
   "execution_count": null,
   "id": "d69e1cdd",
   "metadata": {},
   "outputs": [],
   "source": [
    "import pandas as pd\n",
    "df = pd.DataFrame({\n",
    "    'company_code': ['Abcd','EFGF', 'skfsalf', 'sdfslew', 'safsdf'],\n",
    "    'date_of_sale ': ['12/05/2002','16/02/1999','25/09/1998','12/02/2022','15/09/1997'],\n",
    "    'sale_amount': [12348.5, 233331.2, 22.5, 2566552.0, 23.0]})\n",
    "print(\"Original DataFrame:\")\n",
    "print(df)\n",
    "print(\"\\nLength of the string in a column:\")\n",
    "df['company_code_length'] = df['company_code'].apply(len)\n",
    "print(df)\n"
   ]
  },
  {
   "cell_type": "markdown",
   "id": "1fba2132",
   "metadata": {},
   "source": [
    "14. Write a Pandas program to check whether only space is present in a given column of a DataFrame."
   ]
  },
  {
   "cell_type": "code",
   "execution_count": null,
   "id": "6f555803",
   "metadata": {},
   "outputs": [],
   "source": [
    "import pandas as pd\n",
    "df = pd.DataFrame({\n",
    "    'company_code': ['Abcd','EFGF ', '  ', 'abcd', ' '],\n",
    "    'date_of_sale ': ['12/05/2002','16/02/1999','25/09/1998','12/02/2022','15/09/1997'],\n",
    "    'sale_amount': [12348.5, 233331.2, 22.5, 2566552.0, 23.0]})\n",
    "\n",
    "print(\"Original DataFrame:\")\n",
    "print(df)\n",
    "print(\"\\nIs space is present?\")\n",
    "df['company_code_is_title'] = list(map(lambda x: x.isspace(), df['company_code']))\n",
    "print(df)\n",
    "\n"
   ]
  },
  {
   "cell_type": "markdown",
   "id": "9a574b6f",
   "metadata": {},
   "source": [
    "13. Write a Pandas program to check whether only proper case or title case is present in a given column of a DataFrame. "
   ]
  },
  {
   "cell_type": "code",
   "execution_count": null,
   "id": "4525424d",
   "metadata": {},
   "outputs": [],
   "source": [
    "import pandas as pd\n",
    "df = pd.DataFrame({\n",
    "    'company_code': ['Abcd','EFGF', 'Hhhh', 'abcd', 'EAWQaaa'],\n",
    "    'date_of_sale ': ['12/05/2002','16/02/1999','25/09/1998','12/02/2022','15/09/1997'],\n",
    "    'sale_amount': [12348.5, 233331.2, 22.5, 2566552.0, 23.0]})\n",
    "\n",
    "print(\"Original DataFrame:\")\n",
    "print(df)\n",
    "print(\"\\nIs proper case or title case?\")\n",
    "df['company_code_is_title'] = list(map(lambda x: x.istitle(), df['company_code']))\n",
    "print(df)\n"
   ]
  },
  {
   "cell_type": "markdown",
   "id": "c3bfa443",
   "metadata": {},
   "source": [
    "12. Write a Pandas program to check whether only lower case or upper case is present in a given column of a DataFrame."
   ]
  },
  {
   "cell_type": "code",
   "execution_count": null,
   "id": "31e6cb55",
   "metadata": {},
   "outputs": [],
   "source": [
    "import pandas as pd\n",
    "df = pd.DataFrame({\n",
    "    'company_code': ['ABCD','EFGF', 'hhhh', 'abcd', 'EAWQaaa'],\n",
    "    'date_of_sale ': ['12/05/2002','16/02/1999','25/09/1998','12/02/2022','15/09/1997'],\n",
    "    'sale_amount': [12348.5, 233331.2, 22.5, 2566552.0, 23.0]})\n",
    "\n",
    "print(\"Original DataFrame:\")\n",
    "print(df)\n",
    "print(\"\\nIs lower (company_code)?\")\n",
    "df['company_code_ul_cases'] = list(map(lambda x: x.islower(), df['company_code']))\n",
    "print(df)\n",
    "print(\"\\nIs Upper (company_code)?\")\n",
    "df['company_code_ul_cases'] = list(map(lambda x: x.isupper(), df['company_code']))\n",
    "print(df)\n"
   ]
  },
  {
   "cell_type": "markdown",
   "id": "fe27cf13",
   "metadata": {},
   "source": [
    "11. Write a Pandas program to check whether only numeric values present in a given column of a DataFrame."
   ]
  },
  {
   "cell_type": "code",
   "execution_count": null,
   "id": "e0cf636d",
   "metadata": {},
   "outputs": [],
   "source": [
    "import pandas as pd\n",
    "df = pd.DataFrame({\n",
    "    'company_code': ['Company','Company a001', '2055', 'abcd', '123345'],\n",
    "    'date_of_sale ': ['12/05/2002','16/02/1999','25/09/1998','12/02/2022','15/09/1997'],\n",
    "    'sale_amount': [12348.5, 233331.2, 22.5, 2566552.0, 23.0]})\n",
    "\t\n",
    "print(\"Original DataFrame:\")\n",
    "print(df)\n",
    "print(\"\\nNumeric values present in company_code column:\")\n",
    "df['company_code_is_digit'] = list(map(lambda x: x.isdigit(), df['company_code']))\n",
    "print(df)\n",
    "\n"
   ]
  },
  {
   "cell_type": "markdown",
   "id": "3b0142a1",
   "metadata": {},
   "source": [
    "10. Write a Pandas program to check whether alphabetic values present in a given column of a DataFrame. \n",
    "Note: isalpha() returns True if all characters in the string are alphabetic and there is at least one character, False otherwise."
   ]
  },
  {
   "cell_type": "code",
   "execution_count": null,
   "id": "65a58d1d",
   "metadata": {},
   "outputs": [],
   "source": [
    "import pandas as pd\n",
    "df = pd.DataFrame({\n",
    "    'company_code': ['Company','Company a001','Company 123', 'abcd', 'Company 12'],\n",
    "    'date_of_sale ': ['12/05/2002','16/02/1999','25/09/1998','12/02/2022','15/09/1997'],\n",
    "    'sale_amount': [12348.5, 233331.2, 22.5, 2566552.0, 23.0]})\n",
    "\n",
    "print(\"Original DataFrame:\")\n",
    "print(df)\n",
    "print(\"\\nWhether Alphabetic values present in company_code column?\")\n",
    "df['company_code_is_alpha'] = list(map(lambda x: x.isalpha(), df['company_code']))\n",
    "print(df)\n"
   ]
  },
  {
   "cell_type": "markdown",
   "id": "c3ef8ac3",
   "metadata": {},
   "source": [
    "9. Write a Pandas program to check whether alpha numeric values present in a given column of a DataFrame. \n",
    "Note: isalnum() function returns True if all characters in the string are alphanumeric and there is at least one character, False otherwise."
   ]
  },
  {
   "cell_type": "code",
   "execution_count": null,
   "id": "880aba07",
   "metadata": {},
   "outputs": [],
   "source": [
    "import pandas as pd\n",
    "df = pd.DataFrame({\n",
    "    'name_code': ['Company','Company a001','Company 123', '1234', 'Company 12'],\n",
    "    'date_of_birth ': ['12/05/2002','16/02/1999','25/09/1998','12/02/2022','15/09/1997'],\n",
    "    'age': [18.5, 21.2, 22.5, 22, 23]\n",
    "})\n",
    "print(\"Original DataFrame:\")\n",
    "print(df)\n",
    "print(\"\\nWhether all characters in the string are alphanumeric?\")\n",
    "df['name_code_is_alphanumeric'] = list(map(lambda x: x.isalnum(), df['name_code']))\n",
    "print(df)\n"
   ]
  },
  {
   "cell_type": "markdown",
   "id": "30195809",
   "metadata": {},
   "source": [
    "8. Write a Pandas program to find the index of a substring of DataFrame with beginning and end position."
   ]
  },
  {
   "cell_type": "code",
   "execution_count": null,
   "id": "95478723",
   "metadata": {},
   "outputs": [],
   "source": [
    "import pandas as pd\n",
    "df = pd.DataFrame({\n",
    "    'name_code': ['c0001','1000c','b00c2', 'b2c02', 'c2222'],\n",
    "    'date_of_birth ': ['12/05/2002','16/02/1999','25/09/1998','12/02/2022','15/09/1997'],\n",
    "    'age': [18.5, 21.2, 22.5, 22, 23]\n",
    "})\n",
    "print(\"Original DataFrame:\")\n",
    "print(df)\n",
    "print(\"\\nIndex of a substring in a specified column of a dataframe:\")\n",
    "df['Index'] = list(map(lambda x: x.find('c', 0, 5), df['name_code']))\n",
    "print(df)\n"
   ]
  },
  {
   "cell_type": "markdown",
   "id": "aae2381e",
   "metadata": {},
   "source": [
    "7. Write a Pandas program to find the index of a given substring of a DataFrame column."
   ]
  },
  {
   "cell_type": "code",
   "execution_count": null,
   "id": "f76469b7",
   "metadata": {},
   "outputs": [],
   "source": [
    "import pandas as pd\n",
    "df = pd.DataFrame({\n",
    "    'name_code': ['c001','c002','c022', 'c2002', 'c2222'],\n",
    "    'date_of_birth ': ['12/05/2002','16/02/1999','25/09/1998','12/02/2022','15/09/1997'],\n",
    "    'age': [18.5, 21.2, 22.5, 22, 23]\n",
    "})\n",
    "print(\"Original DataFrame:\")\n",
    "print(df)\n",
    "print(\"\\nCount occurrence of 22 in date_of_birth column:\")\n",
    "df['Index'] = list(map(lambda x: x.find('22'), df['name_code']))\n",
    "print(df)\n"
   ]
  },
  {
   "cell_type": "markdown",
   "id": "612b7694",
   "metadata": {},
   "source": [
    "6. Write a Pandas program to count of occurrence of a specified substring in a DataFrame column."
   ]
  },
  {
   "cell_type": "code",
   "execution_count": null,
   "id": "f9c92922",
   "metadata": {},
   "outputs": [],
   "source": [
    "import pandas as pd\n",
    "df = pd.DataFrame({\n",
    "    'name_code': ['c001','c002','c022', 'c2002', 'c2222'],\n",
    "    'date_of_birth ': ['12/05/2002','16/02/1999','25/09/1998','12/02/2022','15/09/1997'],\n",
    "    'age': [18.5, 21.2, 22.5, 22, 23]\n",
    "})\n",
    "print(\"Original DataFrame:\")\n",
    "print(df)\n",
    "print(\"\\nCount occurrence of 2 in date_of_birth column:\")\n",
    "df['count'] = list(map(lambda x: x.count(\"2\"), df['name_code']))\n",
    "print(df)\n"
   ]
  },
  {
   "cell_type": "markdown",
   "id": "56030ee9",
   "metadata": {},
   "source": [
    "5. Write a Pandas program to capitalize all the string values of specified columns of a given DataFrame"
   ]
  },
  {
   "cell_type": "code",
   "execution_count": null,
   "id": "66dc7de1",
   "metadata": {},
   "outputs": [],
   "source": [
    "import pandas as pd\n",
    "df = pd.DataFrame({\n",
    "    'name': ['alberto','gino','ryan', 'Eesha', 'syed'],\n",
    "    'date_of_birth ': ['17/05/2002','16/02/1999','25/09/1998','11/05/2002','15/09/1997'],\n",
    "    'age': [18.5, 21.2, 22.5, 22, 23]\n",
    "})\n",
    "print(\"Original DataFrame:\")\n",
    "print(df)\n",
    "print(\"\\nAfter capitalizing name column:\")\n",
    "df['name'] = list(map(lambda x: x.capitalize(), df['name']))\n",
    "print(df)\n"
   ]
  },
  {
   "cell_type": "markdown",
   "id": "ad5e1058",
   "metadata": {},
   "source": [
    "4. Write a Pandas program to add leading zeros to the character column in a pandas series and makes the length of the field to 8 digit. "
   ]
  },
  {
   "cell_type": "code",
   "execution_count": null,
   "id": "85eb341c",
   "metadata": {},
   "outputs": [],
   "source": [
    "import pandas as pd\n",
    "nums = {'amount': ['10', '250', '3000', '40000', '500000']}\n",
    "print(\"Original dataframe:\")\n",
    "df = pd.DataFrame(nums)\n",
    "print(df)\n",
    "print(\"\\nAdd leading zeros:\")\n",
    "df['amount'] = list(map(lambda x: x.zfill(10), df['amount']))\n",
    "print(df)\n"
   ]
  },
  {
   "cell_type": "markdown",
   "id": "27dd9027",
   "metadata": {},
   "source": [
    "3. Write a Pandas program to add leading zeros to the integer column in a pandas series and makes the length of the field to 8 digit."
   ]
  },
  {
   "cell_type": "code",
   "execution_count": null,
   "id": "18b1ffc7",
   "metadata": {},
   "outputs": [],
   "source": [
    "import pandas as pd\n",
    "nums = {'amount': [10, 250, 3000, 40000, 500000]}\n",
    "print(\"Original dataframe:\")\n",
    "df = pd.DataFrame(nums)\n",
    "print(df)\n",
    "print(\"\\nAdd leading zeros:\")\n",
    "df['amount'] = df['amount'].apply(lambda x: '{0:0>8}'.format(x))\n",
    "print(df)\n"
   ]
  },
  {
   "cell_type": "markdown",
   "id": "6626f401",
   "metadata": {},
   "source": [
    "2. Write a Pandas program to remove whitespaces, left sided whitespaces and right sided whitespaces of the string values of a given pandas series."
   ]
  },
  {
   "cell_type": "code",
   "execution_count": null,
   "id": "fab0d7b7",
   "metadata": {},
   "outputs": [],
   "source": [
    "import pandas as pd\n",
    "color1 = pd.Index([' Green', 'Black ', ' Red ', 'White', ' Pink '])\n",
    "print(\"Original series:\")\n",
    "print(color1)\n",
    "print(\"\\nRemove whitespace\")\n",
    "print(color1.str.strip())\n",
    "print(\"\\nRemove left sided whitespace\")\n",
    "print(color1.str.lstrip())\n",
    "print(\"\\nRemove Right sided whitespace\")\n",
    "print(color1.str.rstrip())\n"
   ]
  },
  {
   "cell_type": "markdown",
   "id": "4cd43e22",
   "metadata": {},
   "source": [
    "1. Write a Pandas program to convert all the string values to upper, lower cases in a given pandas series. Also find the length of the string values."
   ]
  },
  {
   "cell_type": "code",
   "execution_count": null,
   "id": "8c9e19b4",
   "metadata": {},
   "outputs": [],
   "source": [
    "import pandas as pd\n",
    "import numpy as np\n",
    "s = pd.Series(['X', 'Y', 'Z', 'Aaba', 'Baca', np.nan, 'CABA', None, 'bird', 'horse', 'dog'])\n",
    "print(\"Original series:\")\n",
    "print(s)\n",
    "print(\"\\nConvert all string values of the said Series to upper case:\")\n",
    "print(s.str.upper())\n",
    "print(\"\\nConvert all string values of the said Series to lower case:\")\n",
    "print(s.str.lower())\n",
    "print(\"\\nLength of the string values of the said Series:\")\n",
    "print(s.str.len()) \n"
   ]
  }
 ],
 "metadata": {
  "kernelspec": {
   "display_name": "Python 3 (ipykernel)",
   "language": "python",
   "name": "python3"
  },
  "language_info": {
   "codemirror_mode": {
    "name": "ipython",
    "version": 3
   },
   "file_extension": ".py",
   "mimetype": "text/x-python",
   "name": "python",
   "nbconvert_exporter": "python",
   "pygments_lexer": "ipython3",
   "version": "3.9.7"
  }
 },
 "nbformat": 4,
 "nbformat_minor": 5
}
